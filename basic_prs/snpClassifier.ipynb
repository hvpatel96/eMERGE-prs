{
 "cells": [
  {
   "cell_type": "code",
   "execution_count": 1,
   "metadata": {
    "ExecuteTime": {
     "end_time": "2019-09-23T17:50:55.682094Z",
     "start_time": "2019-09-23T17:50:55.670463Z"
    }
   },
   "outputs": [
    {
     "name": "stdout",
     "output_type": "stream",
     "text": [
      "[['1', '22587728', '1:22587728_T/C', 'rs72647484', 'C', 'T', '0', '0.0504'], ['1', '38455891', '1:38455891_G/C', 'rs4360494', 'C', 'G', '0', '0.0379'], ['1', '55246035', '1:55246035_T/C', 'rs12144319', 'C', 'T', '1', '0.0661'], ['1', '62673037', '1:62673037_T/C', 'rs7542665', 'T', 'C', '0', '0.033423755'], ['1', '183002639', '1:183002639_A/G', 'rs6678517', 'G', 'A', '0', '0.073'], ['1', '222112634', '1:222112634_A/G', 'rs17011141', 'G', 'A', '1', '0.0877'], ['1', '245181421', '1:245181421_T/C', 'rs201395236', 'C', 'T', '0', '0.243038049'], ['2', '48686695', '2:48686695_T/A', 'rs7606562', 'A', 'T', '0', '0.041392685'], ['2', '98275354', '2:98275354_G/A', 'rs11692435', 'A', 'G', '0', '0.049218023'], ['2', '159964552', '2:159964552_T/C', 'rs448513', 'C', 'T', '1', '0.0054']]\n"
     ]
    }
   ],
   "source": [
    "# Load and formate file with SNP Betas\n",
    "betaFile = open(\"emerge-prs-risk-beta.csv\", \"r\")\n",
    "betaFile = [x.split(\",\") for x in betaFile.readlines()]\n",
    "# Save the header for metadata\n",
    "betaHeader = betaFile[0]\n",
    "betaHeader[-1] = betaHeader[-1].split(\"\\n\")[0]\n",
    "betaFile = betaFile[1:]\n",
    "\n",
    "# Remove the newline characters from the end of each SNP\n",
    "for snp in betaFile:\n",
    "    snp[-1] = snp[-1].split(\"\\n\")[0]\n",
    "\n",
    "print(betaFile[0:10])"
   ]
  },
  {
   "cell_type": "code",
   "execution_count": 2,
   "metadata": {
    "ExecuteTime": {
     "end_time": "2019-09-23T17:50:59.840003Z",
     "start_time": "2019-09-23T17:50:58.863552Z"
    }
   },
   "outputs": [
    {
     "name": "stdout",
     "output_type": "stream",
     "text": [
      "[['68075207', '68075207', '0', '0', '0', '-9', '0', '0', '0', '2', '1', '1', '0', '0', '1', '2', '1', '2', '0', '0', '0', '0', '0', '1', '1', '0', '0', '0', '0', '0', '0', '0', '1', '1', '1', '1', '0', '2', '1', '1', '1', '1', '1', '1', '0', '1', '0', '1', '1', '1', '0', '1', '0', '0', '0', '2', '0', '0', '1', '1', '1', '0', '1', '1', '0', '0', '1', '0', '1', '1', '0', '0', '1', '2', '0', '0', '2', '1', '0', '2', '0', '1', '1', '0', '0', '1', '1', '1', '0', '0', '0', '2', '0', '2', '1', '0', '1', '1', '0', '0', '1', '1', '1', '2', '2', '0', '2', '0', '0', '0', '0', '0', '1', '1', '1', '1', '0', '0', '0', '0', '2', '1', '2', '0', '0', '0', '0', '0', '1', '0', '0', '0', '0', '0', '1', '1', '0', '0', '2', '0', '1', '1', '1', '2', '1', '2'], ['68914701', '68914701', '0', '0', '0', '-9', '0', '2', '1', '0', '1', '0', '0', '0', '0', '1', '1', '1', '0', '0', '0', '0', '0', '0', '1', '0', '0', '1', '1', '2', '0', '0', '0', '0', '0', '0', '0', '1', '2', '0', '1', '1', '1', '1', '1', '0', '1', '0', '0', '1', '0', '1', '0', '0', '1', '0', '1', '0', '1', '1', '0', '0', '0', '0', '0', '2', '0', '0', '0', '0', '1', '0', '0', '1', '0', '0', '0', '0', '0', '0', '0', '1', '2', '1', '0', '0', '1', '0', '1', '0', '0', '1', '0', '1', '1', '0', '1', '1', '0', '0', '1', '0', '0', '0', '0', '0', '0', '0', '0', '0', '1', '1', '0', '1', '1', '1', '0', '0', '1', '0', '1', '0', '1', '0', '0', '1', '0', '0', '0', '1', '2', '1', '1', '2', '0', '1', '0', '0', '0', '0', '2', '0', '0', '0', '0', '1'], ['68406997', '68406997', '0', '0', '0', '-9', '1', '1', '0', '1', '1', '1', '0', '1', '1', '0', '2', '0', '0', '0', '1', '0', '1', '0', '0', '1', '0', '1', '0', '1', '0', '0', '0', '2', '0', '0', '0', '1', '1', '1', '1', '0', '1', '1', '0', '1', '1', '0', '0', '1', '1', '0', '1', '0', '1', '1', '1', '1', '1', '0', '0', '0', '0', '0', '0', '0', '0', '0', '1', '1', '0', '0', '0', '2', '0', '0', '2', '1', '0', '0', '0', '0', '2', '0', '0', '0', '0', '0', '0', '0', '0', '1', '1', '1', '0', '1', '0', '0', '0', '0', '1', '2', '1', '1', '1', '0', '0', '0', '0', '1', '2', '1', '1', '1', '0', '2', '0', '0', '1', '0', '2', '2', '1', '0', '0', '1', '1', '1', '0', '0', '0', '0', '1', '0', '0', '1', '0', '1', '1', '0', '1', '1', '1', '1', '0', '0'], ['68432380', '68432380', '0', '0', '0', '-9', '0', '2', '0', '0', '0', '1', '0', '2', '0', '0', '1', '0', '1', '0', '0', '0', '0', '0', '2', '0', '0', '0', '1', '2', '0', '0', '0', '1', '1', '0', '0', '0', '1', '1', '0', '0', '0', '0', '0', '0', '0', '1', '0', '1', '0', '0', '1', '0', '0', '2', '0', '1', '1', '0', '0', '0', '1', '0', '2', '2', '0', '1', '0', '1', '0', '0', '1', '2', '0', '0', '2', '0', '1', '2', '1', '1', '0', '1', '0', '0', '0', '0', '0', '0', '0', '1', '1', '1', '2', '1', '0', '1', '0', '1', '0', '0', '0', '0', '1', '0', '0', '0', '1', '2', '1', '0', '0', '2', '0', '1', '0', '0', '2', '0', '1', '0', '2', '0', '0', '0', '0', '0', '0', '1', '0', '0', '1', '0', '1', '1', '0', '1', '2', '0', '1', '1', '1', '0', '1', '1'], ['68016979', '68016979', '0', '0', '0', '-9', '0', '2', '1', '0', '1', '0', '0', '1', '1', '1', '0', '2', '0', '1', '0', '1', '0', '2', '0', '0', '0', '0', '2', '1', '0', '0', '2', '1', '0', '1', '0', '0', '1', '0', '0', '1', '0', '0', '0', '1', '0', '1', '0', '1', '1', '1', '1', '0', '1', '1', '0', '0', '0', '0', '0', '0', '1', '0', '0', '2', '0', '0', '0', '1', '1', '0', '1', '2', '0', '0', '2', '1', '1', '1', '0', '1', '1', '1', '2', '1', '1', '1', '0', '1', '0', '1', '1', '1', '2', '0', '1', '0', '1', '0', '0', '0', '1', '2', '1', '0', '2', '0', '0', '0', '1', '0', '0', '2', '1', '0', '0', '0', '0', '0', '1', '0', '1', '0', '0', '0', '1', '1', '0', '0', '0', '0', '1', '0', '0', '0', '1', '0', '1', '0', '2', '0', '2', '1', '0', '1'], ['68609194', '68609194', '0', '0', '0', '-9', '0', '0', '1', '1', '1', '0', '0', '0', '0', '0', '0', '1', '1', '2', '0', '1', '0', '0', '2', '0', '0', '0', '1', '0', '0', '0', '2', '1', '0', '0', '0', '1', '1', '2', '1', '1', '0', '1', '1', '0', '0', '2', '0', '1', '0', '1', '1', '0', '2', '0', '1', '1', '0', '1', '0', '0', '0', '2', '2', '1', '1', '1', '1', '0', '0', '0', '1', '2', '0', '0', '1', '1', '2', '1', '0', '0', '2', '2', '0', '1', '0', '0', '1', '0', '0', '1', '0', '0', '0', '0', '0', '1', '1', '0', '0', '0', '0', '1', '1', '0', '0', '1', '1', '1', '0', '0', '1', '0', '1', '1', '0', '0', '1', '2', '1', '0', '1', '0', '0', '0', '0', '0', '1', '0', '0', '0', '0', '0', '0', '1', '1', '0', '0', '0', '1', '1', '1', '1', '0', '1'], ['68228112', '68228112', '0', '0', '0', '-9', '0', '1', '0', '0', '2', '0', '0', '0', '1', '0', '2', '0', '0', '0', '0', '0', '0', '0', '1', '0', '0', '0', '2', '1', '1', '0', '2', '1', '1', '0', '0', '1', '0', '2', '2', '1', '1', '1', '0', '1', '0', '1', '1', '1', '0', '2', '1', '0', '2', '1', '0', '0', '1', '1', '0', '0', '0', '1', '1', '2', '0', '0', '0', '1', '0', '0', '1', '0', '1', '1', '2', '1', '0', '1', '0', '1', '2', '1', '1', '1', '0', '0', '0', '0', '0', '1', '0', '1', '1', '1', '0', '0', '0', '0', '0', '2', '0', '0', '0', '0', '1', '0', '0', '0', '0', '2', '0', '1', '1', '2', '0', '1', '1', '1', '2', '2', '1', '1', '0', '0', '0', '0', '0', '0', '1', '0', '0', '1', '0', '2', '0', '0', '0', '0', '1', '0', '0', '1', '0', '0'], ['68667119', '68667119', '0', '0', '0', '-9', '0', '0', '0', '1', '2', '0', '0', '0', '1', '0', '1', '1', '1', '0', '0', '0', '0', '1', '0', '0', '0', '0', '0', '1', '0', '0', '0', '0', '1', '1', '0', '1', '1', '0', '2', '0', '0', '0', '0', '1', '0', '0', '1', '1', '2', '1', '1', '0', '1', '1', '1', '0', '1', '2', '0', '0', '1', '2', '0', '1', '0', '1', '0', '1', '0', '0', '0', '1', '0', '0', '0', '2', '1', '0', '1', '0', '1', '1', '1', '1', '0', '1', '2', '0', '0', '0', '0', '1', '1', '0', '0', '0', '0', '0', '0', '0', '0', '1', '0', '0', '1', '1', '0', '0', '1', '0', '0', '1', '0', '0', '0', '0', '1', '2', '2', '0', '1', '0', '0', '0', '0', '0', '1', '0', '1', '0', '0', '1', '1', '1', '0', '0', '0', '0', '2', '0', '1', '1', '1', '0'], ['68646284', '68646284', '0', '0', '0', '-9', '0', '1', '1', '1', '1', '0', '0', '0', '0', '1', '1', '0', '1', '0', '0', '0', '1', '0', '1', '0', '0', '0', '0', '1', '0', '0', '1', '1', '1', '1', '0', '1', '1', '0', '2', '2', '2', '0', '0', '1', '0', '1', '0', '1', '1', '1', '1', '1', '0', '1', '1', '1', '0', '1', '1', '0', '0', '1', '0', '2', '0', '1', '0', '0', '1', '0', '1', '1', '0', '1', '1', '0', '1', '0', '0', '1', '2', '0', '0', '0', '2', '1', '0', '0', '0', '0', '0', '0', '1', '0', '0', '0', '0', '1', '0', '1', '0', '1', '0', '0', '1', '0', '0', '0', '0', '1', '0', '0', '0', '1', '0', '0', '2', '1', '2', '0', '1', '0', '0', '0', '0', '0', '0', '1', '1', '0', '0', '0', '1', '2', '1', '0', '1', '0', '1', '1', '1', '1', '0', '0'], ['68438190', '68438190', '0', '0', '0', '-9', '0', '2', '0', '0', '0', '1', '0', '0', '1', '0', '1', '2', '0', '0', '0', '1', '0', '0', '1', '1', '0', '1', '0', '1', '1', '0', '0', '0', '0', '1', '0', '1', '0', '0', '2', '1', '1', '1', '0', '0', '0', '0', '1', '0', '1', '1', '1', '0', '1', '1', '0', '1', '1', '0', '0', '0', '1', '0', '1', '0', '0', '2', '0', '0', '0', '0', '2', '1', '0', '0', '0', '0', '1', '0', '0', '0', '1', '2', '2', '0', '1', '0', '0', '1', '0', '0', '2', '2', '0', '1', '1', '0', '1', '0', '0', '2', '0', '0', '0', '0', '1', '1', '1', '1', '1', '1', '0', '1', '0', '0', '0', '0', '0', '1', '0', '0', '1', '0', '0', '0', '0', '0', '1', '1', '1', '0', '0', '0', '0', '2', '1', '0', '2', '0', '2', '0', '0', '1', '1', '1']]\n"
     ]
    }
   ],
   "source": [
    "# Load and Format Individual Variant File\n",
    "variantFile = open(\"concatenated_merged_variants.raw\", \"r\")\n",
    "variantFile = [x.split(\" \") for x in variantFile.readlines()]\n",
    "# Save the header for metadata\n",
    "variantHeader = variantFile[0]\n",
    "variantHeader[-1] = variantHeader[-1].split(\"\\n\")[0]\n",
    "variantFile = variantFile[1:]\n",
    "\n",
    "# Remove the newline characters from the end of each individual\n",
    "for ind in variantFile:\n",
    "    ind[-1] = ind[-1].split(\"\\n\")[0]\n",
    "    \n",
    "print(variantFile[0:10])"
   ]
  },
  {
   "cell_type": "code",
   "execution_count": 3,
   "metadata": {
    "ExecuteTime": {
     "end_time": "2019-09-23T17:51:02.347442Z",
     "start_time": "2019-09-23T17:51:02.338883Z"
    }
   },
   "outputs": [
    {
     "name": "stdout",
     "output_type": "stream",
     "text": [
      "['1', '22587728', '1:22587728_T/C', 'rs72647484', 'C', 'T', '0', '0.0504']\n"
     ]
    }
   ],
   "source": [
    "# Create a dictionary that maps SNP \"name\" (Chr#:Pos) to SNP information (containing risk allele, beta, chromosome info, etc.)\n",
    "betaDict = dict()\n",
    "for snp in betaFile:\n",
    "    snpName = snp[2].split(\"_\")[0]\n",
    "    betaDict[snpName] = snp\n",
    "\n",
    "# Example output of SNP 1:22587728\n",
    "print(betaDict[\"1:22587728\"])"
   ]
  },
  {
   "cell_type": "code",
   "execution_count": 4,
   "metadata": {
    "ExecuteTime": {
     "end_time": "2019-09-23T17:51:05.174524Z",
     "start_time": "2019-09-23T17:51:05.169567Z"
    }
   },
   "outputs": [
    {
     "name": "stdout",
     "output_type": "stream",
     "text": [
      "140\n"
     ]
    }
   ],
   "source": [
    "# In variantFile, individual SNP begins from array index 6 onwards and contains 140 SNPs\n",
    "print(len(variantHeader[6:]))"
   ]
  },
  {
   "cell_type": "code",
   "execution_count": 5,
   "metadata": {
    "ExecuteTime": {
     "end_time": "2019-09-23T17:51:06.393764Z",
     "start_time": "2019-09-23T17:51:06.376231Z"
    }
   },
   "outputs": [
    {
     "name": "stdout",
     "output_type": "stream",
     "text": [
      "[6, 'C']\n"
     ]
    }
   ],
   "source": [
    "# Create a dictionary that maps SNP \"name\" (Chr#:Pos) to array index value from variantFile and allele counted (\"A\", \"C\", \"G\", or \"T\")\n",
    "count = 6\n",
    "headerDict = dict()\n",
    "for snp in variantHeader[6:]:\n",
    "    snpName = snp.split(\"_\")[0]\n",
    "    alleleName = snp.split(\"_\")[1]\n",
    "    headerDict[snpName] = [count, alleleName]\n",
    "    count = count + 1\n",
    "    \n",
    "# Example output of SNP 1:22587728\n",
    "print(headerDict[\"1:22587728\"])"
   ]
  },
  {
   "cell_type": "code",
   "execution_count": 6,
   "metadata": {
    "ExecuteTime": {
     "end_time": "2019-09-23T17:51:27.788892Z",
     "start_time": "2019-09-23T17:51:08.153624Z"
    }
   },
   "outputs": [
    {
     "name": "stdout",
     "output_type": "stream",
     "text": [
      "[('1:22587728', 2), ('1:38455891', 2), ('1:55246035', 0), ('1:62673037', 0), ('1:183002639', 1), ('1:222112634', 1), ('1:245181421', 2), ('2:48686695', 0), ('2:98275354', 2), ('2:159964552', 1), ('2:199612407', 1), ('2:199781586', 0), ('2:219191256', 2), ('3:40915239', 1), ('3:53088285', 1), ('3:66365163', 1), ('3:112903888', 0), ('3:112916918', 0), ('3:112999560', 2), ('3:133701119', 0), ('3:133748789', 2), ('3:169517436', 2), ('4:94938618', 0), ('4:106128760', 2), ('4:145659064', 0), ('5:1240204', 1), ('5:1296486', 1), ('5:40102443', 1), ('5:40280076', 1), ('5:98206082', 2), ('5:112097351', 0), ('5:125988175', 2), ('5:134467220', 2), ('6:12292772', 2), ('6:29809860', 1), ('6:30758466', 2), ('6:31010185', 0), ('6:31315512', 2), ('6:31449620', 2), ('6:32191339', 0), ('6:32593080', 2), ('6:35569562', 1), ('6:36623379', 0), ('6:41702582', 0), ('6:55566108', 0), ('6:55712124', 2), ('7:45136423', 2), ('7:46094089', 1), ('7:46926695', 1), ('7:47511161', 2), ('8:117630683', 0), ('8:117632965', 2), ('8:117790914', 0), ('8:128413305', 1), ('8:128414892', 1), ('8:128571855', 1), ('9:22103183', 0), ('9:101679752', 1), ('9:113671403', 2), ('10:8663875', 2), ('10:8739580', 1), ('10:52648454', 0), ('10:80819132', 1), ('10:81046265', 2), ('10:101315166', 2), ('10:101351704', 0), ('10:114288619', 0), ('10:114722621', 0), ('11:10286755', 0), ('11:61549025', 1), ('11:74280012', 1), ('11:74409077', 2), ('11:74427921', 2), ('11:100717136', 2), ('11:101656397', 2), ('11:111156836', 0), ('12:4368607', 0), ('12:4388271', 0), ('12:4400808', 1), ('12:6406904', 1), ('12:6421174', 1), ('12:12035649', 1), ('12:31594813', 0), ('12:43134191', 2), ('12:51171090', 1), ('12:57533690', 1), ('12:111973358', 1), ('12:115100714', 1), ('12:115890922', 1), ('13:34092164', 1), ('13:37462010', 0), ('13:73649152', 1), ('13:73791554', 0), ('13:73997961', 1), ('13:78609615', 1), ('13:111075881', 1), ('14:54369299', 0), ('14:54419106', 1), ('14:54445157', 0), ('14:59189361', 2), ('14:59208437', 0), ('15:32992836', 0), ('15:33010736', 0), ('15:33156386', 0), ('15:67007018', 1), ('15:67402824', 1), ('15:68060389', 1), ('15:91172901', 0), ('16:68743939', 1), ('16:80043258', 1), ('16:86252544', 0), ('16:86339315', 0), ('16:86703949', 1), ('17:809643', 0), ('17:814243', 1), ('17:10707241', 1), ('17:70413253', 0), ('17:80394556', 0), ('17:81061048', 1), ('18:46453156', 0), ('19:16417198', 0), ('19:33519927', 2), ('19:41871573', 0), ('19:49218602', 1), ('19:59079096', 0), ('20:6376457', 1), ('20:6603622', 1), ('20:6699595', 1), ('20:6762221', 2), ('20:7740976', 0), ('20:8568071', 0), ('20:33213196', 0), ('20:42666475', 2), ('20:47340117', 0), ('20:48983697', 1), ('20:49055318', 2), ('20:49256285', 1), ('20:57475191', 1), ('20:60932414', 2), ('20:62308612', 0)]\n"
     ]
    }
   ],
   "source": [
    "# Creata a dictionary that maps individuals to a list containing SNPs and the number of risk alleles for that SNP that individual has\n",
    "indDict = dict()\n",
    "for ind in variantFile:\n",
    "    indName = ind[1]\n",
    "    snpList = list()\n",
    "    for snp in betaDict.keys():\n",
    "        riskAllele = betaDict[snp][4] if betaDict[snp][6] == \"1\" else betaDict[snp][5]\n",
    "        headerColumn = headerDict[snp][0]\n",
    "        observedAllele = headerDict[snp][1]\n",
    "        riskAlleleCount = int(ind[int(headerColumn)]) if riskAllele == observedAllele else (2 - int(ind[int(headerColumn)]))\n",
    "        snpList.append((snp, riskAlleleCount))\n",
    "    indDict[indName] = snpList\n",
    "\n",
    "# Example output of individual #68075207\n",
    "print(indDict[\"68075207\"])"
   ]
  },
  {
   "cell_type": "code",
   "execution_count": 12,
   "metadata": {
    "ExecuteTime": {
     "end_time": "2019-09-23T17:52:18.790891Z",
     "start_time": "2019-09-23T17:52:02.810108Z"
    }
   },
   "outputs": [
    {
     "name": "stdout",
     "output_type": "stream",
     "text": [
      "-0.871995546\n"
     ]
    }
   ],
   "source": [
    "# Generate PRS using formula: PRS = Sum over all SNPS of snpBETA * riskAlleleCount\n",
    "# Output PRS to separate file\n",
    "# Create dictionary mapping individual to their risk score\n",
    "\n",
    "output = open(\"prsColon.txt\", \"w\")\n",
    "output.write(\"EMERGE ID, PRS\\n\")\n",
    "\n",
    "prsDict = dict()\n",
    "\n",
    "for ind in indDict.keys():\n",
    "    runningTotal = 0\n",
    "    snpContributions = list()\n",
    "    for snp in indDict[ind]:\n",
    "        snpBeta = float(betaDict[snp[0]][7])\n",
    "        if betaDict[snp[0]][6] == '1':\n",
    "            runningTotal += snp[1] * snpBeta\n",
    "            snpContributions.append(snp[1] * snpBeta)\n",
    "        else:\n",
    "            runningTotal += (2 - snp[1]) * -snpBeta\n",
    "            snpContributions.append((2 - snp[1]) * -snpBeta)\n",
    "    prsDict[ind] = runningTotal, snpContributions\n",
    "    output.write(ind + \",\" + str(runningTotal) + \"\\n\")\n",
    "\n",
    "# Example output of individual #68075207\n",
    "print(sum(prsDict[\"68075207\"][1]))"
   ]
  },
  {
   "cell_type": "code",
   "execution_count": 13,
   "metadata": {
    "ExecuteTime": {
     "end_time": "2019-09-23T17:52:19.828262Z",
     "start_time": "2019-09-23T17:52:18.795727Z"
    }
   },
   "outputs": [
    {
     "name": "stdout",
     "output_type": "stream",
     "text": [
      "[['42000240', 'colu', 'M', '1931', '0', '83', 'NA', '0', '0', 'C17998', 'C41221', 'C68751', '77', '1808'], ['42000306', 'colu', 'M', '1982', '0', 'NA', 'NA', '0', '0', 'C41261', 'C41222', 'C68751', '31', '3'], ['42000697', 'colu', 'F', '1951', '0', 'NA', 'NA', '0', '0', 'C41261', 'C41221', 'C67151', '0', '0'], ['42001430', 'colu', 'F', '1951', '0', 'NA', 'NA', '0', '0', 'C41261', 'C41222', 'C65108', '61', '1'], ['42001533', 'colu', 'M', '1960', '0', 'NA', 'NA', '0', '0', 'C41261', 'C41222', 'C67151', '47', '14'], ['42003615', 'colu', 'M', '1954', '0', 'NA', 'NA', '0', '0', 'C17998', 'C41221', 'C67151', '0', '0'], ['42004363', 'colu', 'F', '1964', '0', '49', 'NA', '0', '0', 'C41260', 'C41222', 'C65108', '0', '0'], ['42004587', 'colu', 'M', '1928', '0', 'NA', 'NA', '0', '0', 'C41261', 'C17459', 'C67151', '81', '18'], ['42005489', 'colu', 'F', '1981', '0', 'NA', 'NA', '0', '0', 'C17998', 'C41221', 'C67151', '0', '0'], ['42005962', 'colu', 'F', '1928', '0', '89', 'NA', '0', '0', 'C17998', 'C41221', 'C68751', '89', '965']]\n"
     ]
    }
   ],
   "source": [
    "# Load and format Colon Cancer status file\n",
    "colonFile = open(\"emerge-crc-status-20190-06-06.txt\", \"r\")\n",
    "colonFile = [x.split(\"\\t\") for x in colonFile.readlines()]\n",
    "# Save the header for metadata\n",
    "colonHeader = colonFile[0]\n",
    "colonHeader[-1] = colonHeader[-1].split(\"\\n\")[0]\n",
    "colonFile = colonFile[1:]\n",
    "\n",
    "for ind in colonFile:\n",
    "    ind[-1] = ind[-1].split(\"\\n\")[0]\n",
    "\n",
    "print(colonFile[0:10])"
   ]
  },
  {
   "cell_type": "code",
   "execution_count": 14,
   "metadata": {
    "ExecuteTime": {
     "end_time": "2019-09-23T17:52:19.879765Z",
     "start_time": "2019-09-23T17:52:19.831487Z"
    }
   },
   "outputs": [
    {
     "name": "stdout",
     "output_type": "stream",
     "text": [
      "50850\n",
      "0\n"
     ]
    }
   ],
   "source": [
    "# Create dictionary mapping individual to colon cancer status\n",
    "\n",
    "colonDict = dict()\n",
    "for ind in colonFile:\n",
    "    indName = ind[0]\n",
    "    cancerStatus = ind[4]\n",
    "    colonDict[indName] = cancerStatus\n",
    "\n",
    "print(len(colonDict.keys()))\n",
    "# Example output for ind #42000240\n",
    "print(colonDict[\"42000240\"])"
   ]
  },
  {
   "cell_type": "code",
   "execution_count": 27,
   "metadata": {
    "ExecuteTime": {
     "end_time": "2019-09-23T17:54:37.453458Z",
     "start_time": "2019-09-23T17:54:37.373988Z"
    }
   },
   "outputs": [
    {
     "name": "stdout",
     "output_type": "stream",
     "text": [
      "5938\n",
      "5938\n"
     ]
    }
   ],
   "source": [
    "# Generate training data\n",
    "features = list()\n",
    "labels = list()\n",
    "count = 0\n",
    "\n",
    "for ind in colonDict.keys():\n",
    "    if colonDict[ind] == '0' and (ind in prsDict.keys()) and count < 5000:\n",
    "        features.append(prsDict[ind][1])\n",
    "        labels.append(0)\n",
    "        count += 1\n",
    "    elif colonDict[ind] == '1' and (ind in prsDict.keys()):\n",
    "        features.append(prsDict[ind][1])\n",
    "        labels.append(1)\n",
    "        features.append(prsDict[ind][1])\n",
    "        labels.append(1)\n",
    "\n",
    "print(len(features))\n",
    "print(len(labels))"
   ]
  },
  {
   "cell_type": "code",
   "execution_count": 36,
   "metadata": {
    "ExecuteTime": {
     "end_time": "2019-09-23T17:55:52.360620Z",
     "start_time": "2019-09-23T17:55:50.265201Z"
    }
   },
   "outputs": [
    {
     "data": {
      "text/plain": [
       "MLPClassifier(activation='relu', alpha=1, batch_size='auto', beta_1=0.9,\n",
       "              beta_2=0.999, early_stopping=False, epsilon=1e-08,\n",
       "              hidden_layer_sizes=(128, 64, 1), learning_rate='constant',\n",
       "              learning_rate_init=0.001, max_iter=1000, momentum=0.9,\n",
       "              n_iter_no_change=10, nesterovs_momentum=True, power_t=0.5,\n",
       "              random_state=None, shuffle=True, solver='adam', tol=0.0001,\n",
       "              validation_fraction=0.1, verbose=False, warm_start=False)"
      ]
     },
     "execution_count": 36,
     "metadata": {},
     "output_type": "execute_result"
    }
   ],
   "source": [
    "# Generate numpy arrays from training data\n",
    "import numpy as np\n",
    "X = np.asarray(features)\n",
    "y = np.asarray(labels)\n",
    "\n",
    "from sklearn.model_selection import train_test_split\n",
    "from sklearn.neural_network import MLPClassifier\n",
    "from sklearn.neural_network import MLPClassifier\n",
    "from sklearn.neighbors import KNeighborsClassifier\n",
    "from sklearn.svm import SVC\n",
    "from sklearn.gaussian_process import GaussianProcessClassifier\n",
    "from sklearn.gaussian_process.kernels import RBF\n",
    "from sklearn.tree import DecisionTreeClassifier\n",
    "from sklearn.ensemble import RandomForestClassifier, AdaBoostClassifier\n",
    "\n",
    "X_train, X_test, y_train, y_test = train_test_split(X, y, test_size=.4, random_state=42, stratify = y)\n",
    "mfc = MLPClassifier(alpha = 1, max_iter=1000, hidden_layer_sizes=(128,64,1))\n",
    "# mfc = KNeighborsClassifier(4)\n",
    "# mfc = AdaBoostClassifier(base_estimator = DecisionTreeClassifier(max_depth = 10), n_estimators = 200)\n",
    "# mfc = RandomForestClassifier(max_depth = 5, n_estimators = 10, max_features = 1)\n",
    "mfc.fit(X_train, y_train)\n",
    "\n"
   ]
  },
  {
   "cell_type": "code",
   "execution_count": 37,
   "metadata": {
    "ExecuteTime": {
     "end_time": "2019-09-23T17:55:52.398051Z",
     "start_time": "2019-09-23T17:55:52.366448Z"
    }
   },
   "outputs": [
    {
     "name": "stdout",
     "output_type": "stream",
     "text": [
      "              precision    recall  f1-score   support\n",
      "\n",
      "           0       0.84      1.00      0.91      2001\n",
      "           1       0.00      0.00      0.00       375\n",
      "\n",
      "    accuracy                           0.84      2376\n",
      "   macro avg       0.42      0.50      0.46      2376\n",
      "weighted avg       0.71      0.84      0.77      2376\n",
      "\n",
      "[[2001    0]\n",
      " [ 375    0]]\n"
     ]
    },
    {
     "name": "stderr",
     "output_type": "stream",
     "text": [
      "/anaconda3/lib/python3.7/site-packages/sklearn/metrics/classification.py:1437: UndefinedMetricWarning: Precision and F-score are ill-defined and being set to 0.0 in labels with no predicted samples.\n",
      "  'precision', 'predicted', average, warn_for)\n"
     ]
    }
   ],
   "source": [
    "from sklearn.metrics import confusion_matrix, classification_report\n",
    "pred_mfc = mfc.predict(X_test)\n",
    "print(classification_report(y_test, pred_mfc))\n",
    "print(confusion_matrix(y_test, pred_mfc))"
   ]
  },
  {
   "cell_type": "code",
   "execution_count": null,
   "metadata": {},
   "outputs": [],
   "source": []
  }
 ],
 "metadata": {
  "kernelspec": {
   "display_name": "Python 3",
   "language": "python",
   "name": "python3"
  },
  "language_info": {
   "codemirror_mode": {
    "name": "ipython",
    "version": 3
   },
   "file_extension": ".py",
   "mimetype": "text/x-python",
   "name": "python",
   "nbconvert_exporter": "python",
   "pygments_lexer": "ipython3",
   "version": "3.7.4"
  }
 },
 "nbformat": 4,
 "nbformat_minor": 2
}
